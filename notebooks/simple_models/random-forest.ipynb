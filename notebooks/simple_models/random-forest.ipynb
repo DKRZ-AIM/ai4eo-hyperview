{
 "cells": [
  {
   "cell_type": "code",
   "execution_count": 1,
   "id": "97f3de5e-d7ea-4da1-99f5-608cae744165",
   "metadata": {},
   "outputs": [
    {
     "name": "stderr",
     "output_type": "stream",
     "text": [
      "/p/software/juwels/stages/2020/software/Jupyter/2021.3.2-gcccoremkl-10.3.0-2021.2.0-Python-3.8.5/lib/python3.8/site-packages/statsmodels/tools/_testing.py:19: FutureWarning: pandas.util.testing is deprecated. Use the functions in the public API at pandas.testing instead.\n",
      "  import pandas.util.testing as tm\n"
     ]
    }
   ],
   "source": [
    "import os\n",
    "from glob import glob\n",
    "import numpy as np\n",
    "import pandas as pd\n",
    "\n",
    "from matplotlib import pyplot as plt\n",
    "from matplotlib import colors\n",
    "\n",
    "import seaborn as sns\n",
    "sns.set_style('whitegrid')"
   ]
  },
  {
   "cell_type": "code",
   "execution_count": 2,
   "id": "b72740f6-c058-4b63-93b1-fbea1c3d5247",
   "metadata": {},
   "outputs": [],
   "source": [
    "class BaselineRegressor:\n",
    "    \"\"\"\n",
    "    Baseline regressor, which calculates the mean value of the target from the training\n",
    "    data and returns it for each testing sample.\n",
    "    \"\"\"\n",
    "    def __init__(self):\n",
    "        self.mean = 0\n",
    "\n",
    "    def fit(self, X_train: np.ndarray, y_train: np.ndarray):\n",
    "        self.mean = np.mean(y_train, axis=0)\n",
    "        self.classes_count = y_train.shape[1]\n",
    "        return self\n",
    "\n",
    "    def predict(self, X_test: np.ndarray):\n",
    "        return np.full((len(X_test), self.classes_count), self.mean)\n",
    "\n",
    "\n",
    "class SpectralCurveFiltering():\n",
    "    \"\"\"\n",
    "    Create a histogram (a spectral curve) of a 3D cube, using the merge_function\n",
    "    to aggregate all pixels within one band. The return array will have\n",
    "    the shape of [CHANNELS_COUNT]\n",
    "    \"\"\"\n",
    "\n",
    "    def __init__(self, merge_function = np.mean):\n",
    "        self.merge_function = merge_function\n",
    "\n",
    "    def __call__(self, sample: np.ndarray):\n",
    "        return self.merge_function(sample, axis=(1, 2))\n"
   ]
  },
  {
   "cell_type": "code",
   "execution_count": 3,
   "id": "bbc0603f-84a6-49f1-a8e0-bdd72a4ba35e",
   "metadata": {},
   "outputs": [],
   "source": [
    "def load_data(directory: str):\n",
    "    \"\"\"Load each cube, reduce its dimensionality and append to array.\n",
    "\n",
    "    Args:\n",
    "        directory (str): Directory to either train or test set\n",
    "    Returns:\n",
    "        [type]: A list with spectral curve for each sample.\n",
    "    \"\"\"\n",
    "    data = []\n",
    "    filtering = SpectralCurveFiltering()\n",
    "    all_files = np.array(\n",
    "        sorted(\n",
    "            glob(os.path.join(directory, \"*.npz\")),\n",
    "            key=lambda x: int(os.path.basename(x).replace(\".npz\", \"\")),\n",
    "        )\n",
    "    )\n",
    "    for file_name in all_files:\n",
    "        with np.load(file_name) as npz:\n",
    "            arr = np.ma.MaskedArray(**npz)\n",
    "        arr = filtering(arr)\n",
    "        data.append(arr)\n",
    "    return np.array(data)\n",
    "\n",
    "\n",
    "def load_gt(file_path: str):\n",
    "    \"\"\"Load labels for train set from the ground truth file.\n",
    "    Args:\n",
    "        file_path (str): Path to the ground truth .csv file.\n",
    "    Returns:\n",
    "        [type]: 2D numpy array with soil properties levels\n",
    "    \"\"\"\n",
    "    gt_file = pd.read_csv(file_path)\n",
    "    labels = gt_file[[\"P\", \"K\", \"Mg\", \"pH\"]].values\n",
    "    return labels"
   ]
  },
  {
   "cell_type": "code",
   "execution_count": 4,
   "id": "3fae8ec5-c39a-47ba-86b3-784a767f7345",
   "metadata": {},
   "outputs": [],
   "source": [
    "cols = [\"P2O5\", \"K\", \"Mg\", \"pH\"]"
   ]
  },
  {
   "cell_type": "code",
   "execution_count": 5,
   "id": "62bb7c70-e7db-4dae-be63-53f4e4e96717",
   "metadata": {},
   "outputs": [
    {
     "name": "stdout",
     "output_type": "stream",
     "text": [
      "Train data shape: (1732, 150)\n",
      "Test data shape: (1154, 150)\n"
     ]
    }
   ],
   "source": [
    "raw_data = '/p/project/hai_cons_ee/data/ai4eo-hyperspectral/raw_data/train_data/'\n",
    "train_data = os.path.join(raw_data, 'train_data')\n",
    "test_data = '/p/project/hai_cons_ee/data/ai4eo-hyperspectral/raw_data/test_data/'\n",
    "\n",
    "X_train = load_data(train_data)\n",
    "y_train = load_gt(os.path.join(raw_data, \"train_gt.csv\"))\n",
    "X_test = load_data(test_data)\n",
    "\n",
    "print(f\"Train data shape: {X_train.shape}\")\n",
    "print(f\"Test data shape: {X_test.shape}\")"
   ]
  },
  {
   "cell_type": "code",
   "execution_count": 6,
   "id": "d8e0295f-038e-42c8-afb0-acb5b2bbea46",
   "metadata": {},
   "outputs": [],
   "source": [
    "from sklearn.ensemble import RandomForestRegressor\n",
    "from sklearn.model_selection import train_test_split\n",
    "from sklearn.metrics import mean_squared_error\n",
    "from sklearn.preprocessing import StandardScaler"
   ]
  },
  {
   "cell_type": "code",
   "execution_count": 7,
   "id": "157820e0-959a-4824-9183-51f27f3d00ee",
   "metadata": {},
   "outputs": [],
   "source": [
    "col_ix = [0,1,2,3]"
   ]
  },
  {
   "cell_type": "code",
   "execution_count": 8,
   "id": "21473051-33fc-4513-93de-a7df2311d83c",
   "metadata": {},
   "outputs": [
    {
     "name": "stdout",
     "output_type": "stream",
     "text": [
      "(1732, 4)\n"
     ]
    }
   ],
   "source": [
    "y_train_col = y_train[:, col_ix] # one set of labels only\n",
    "print(y_train_col.shape)"
   ]
  },
  {
   "cell_type": "code",
   "execution_count": 9,
   "id": "8477f62c-17c7-4b95-90d5-759965e7c663",
   "metadata": {},
   "outputs": [],
   "source": [
    "X_t, X_v, y_t, y_v = train_test_split(X_train, y_train_col, test_size=0.25)"
   ]
  },
  {
   "cell_type": "code",
   "execution_count": 10,
   "id": "d075cc4e-748e-42fd-9816-9d8d220cc75d",
   "metadata": {},
   "outputs": [
    {
     "data": {
      "text/plain": [
       "count     150.000000\n",
       "mean     1182.394220\n",
       "std       550.071382\n",
       "min       375.659938\n",
       "25%       703.378945\n",
       "50%      1068.704970\n",
       "75%      1782.232749\n",
       "max      1880.267313\n",
       "dtype: float64"
      ]
     },
     "execution_count": 10,
     "metadata": {},
     "output_type": "execute_result"
    }
   ],
   "source": [
    "pd.Series(np.mean(X_t, axis=0)).describe()"
   ]
  },
  {
   "cell_type": "code",
   "execution_count": 11,
   "id": "60dd11ef-521a-4585-98d8-5f18ff4bbc77",
   "metadata": {},
   "outputs": [],
   "source": [
    "def preprocess(X):\n",
    "    X /= 1850\n",
    "    X = X.reshape(len(X), 15, 10).mean(axis=-1)\n",
    "\n",
    "    dXdl = np.gradient(X, axis=1)\n",
    "    # d2Xdl2 = np.gradient(dXdl, axis=1)\n",
    "\n",
    "    # X = np.concatenate((X, dXdl, d2Xdl2), axis=1)\n",
    "    X = np.concatenate((X, dXdl), axis=1)\n",
    "\n",
    "    return X"
   ]
  },
  {
   "cell_type": "code",
   "execution_count": 12,
   "id": "7e4423fc-1fa4-4e19-be17-299cef8a804b",
   "metadata": {},
   "outputs": [],
   "source": [
    "X_t = preprocess(X_t)\n",
    "X_v = preprocess(X_v)"
   ]
  },
  {
   "cell_type": "raw",
   "id": "a8620f63-4cfa-42b8-85f9-22512f3a26fd",
   "metadata": {},
   "source": [
    "scaler = StandardScaler()\n",
    "X_t = scaler.fit_transform(X_t)\n",
    "X_v = scaler.transform(X_v)\n",
    "\n",
    "print(X_t.shape, X_v.shape)"
   ]
  },
  {
   "cell_type": "code",
   "execution_count": 13,
   "id": "04549e70-a493-4548-b5a7-b5b34ce094d4",
   "metadata": {},
   "outputs": [
    {
     "data": {
      "text/plain": [
       "<__main__.BaselineRegressor at 0x7fc6b29dd940>"
      ]
     },
     "execution_count": 13,
     "metadata": {},
     "output_type": "execute_result"
    }
   ],
   "source": [
    "baseline = BaselineRegressor()\n",
    "baseline.fit(X_t, y_t)"
   ]
  },
  {
   "cell_type": "code",
   "execution_count": 14,
   "id": "4b519f68-3f56-43c5-abfb-3668f5a39aba",
   "metadata": {},
   "outputs": [],
   "source": [
    "rf = RandomForestRegressor()"
   ]
  },
  {
   "cell_type": "code",
   "execution_count": 15,
   "id": "1c7a4042-4874-42f3-802a-f11cd0f62a30",
   "metadata": {},
   "outputs": [
    {
     "data": {
      "text/plain": [
       "RandomForestRegressor()"
      ]
     },
     "execution_count": 15,
     "metadata": {},
     "output_type": "execute_result"
    }
   ],
   "source": [
    "rf.fit(X_t, y_t)"
   ]
  },
  {
   "cell_type": "code",
   "execution_count": 16,
   "id": "787e06f4-0310-47c0-96e4-fdeacf67d432",
   "metadata": {},
   "outputs": [
    {
     "data": {
      "text/plain": [
       "0.04610711052708549"
      ]
     },
     "execution_count": 16,
     "metadata": {},
     "output_type": "execute_result"
    }
   ],
   "source": [
    "rf.score(X_v, y_v)"
   ]
  },
  {
   "cell_type": "code",
   "execution_count": 17,
   "id": "0bd499e5-35ed-4a3a-9c68-50f4096bf83e",
   "metadata": {},
   "outputs": [
    {
     "name": "stdout",
     "output_type": "stream",
     "text": [
      "******************** 0\n",
      "Baseline MSE:      839.58\n",
      "Random Forest MSE: 845.31 (+0.68 %)\n",
      "******************** 1\n",
      "Baseline MSE:      2986.25\n",
      "Random Forest MSE: 2810.36 (-5.89 %)\n",
      "******************** 2\n",
      "Baseline MSE:      1490.51\n",
      "Random Forest MSE: 1419.25 (-4.78 %)\n",
      "******************** 3\n",
      "Baseline MSE:      0.07\n",
      "Random Forest MSE: 0.06 (-10.25 %)\n"
     ]
    }
   ],
   "source": [
    "y_hat = rf.predict(X_v)\n",
    "y_b = baseline.predict(X_v)\n",
    "\n",
    "score = 0\n",
    "\n",
    "for i in range(4):\n",
    "    print('*'*20, i)\n",
    "    mse_rf = mean_squared_error(y_v[:, i], y_hat[:, i])\n",
    "    mse_bl = mean_squared_error(y_v[:, i], y_b[:, i])\n",
    "    \n",
    "    score += mse_rf / mse_bl\n",
    "    \n",
    "    print(f'Baseline MSE:      {mse_bl:.2f}')\n",
    "    print(f'Random Forest MSE: {mse_rf:.2f} ({1e2*(mse_rf - mse_bl)/mse_bl:+.2f} %)')"
   ]
  },
  {
   "cell_type": "raw",
   "id": "d70eaa5b-54ef-45a6-b053-f798a46d7716",
   "metadata": {},
   "source": [
    "Score is calculated as sum(mse/mse_bl)/4 (lower is better)"
   ]
  },
  {
   "cell_type": "code",
   "execution_count": 18,
   "id": "522e2e11-331d-42bd-8945-10c1745d15cd",
   "metadata": {},
   "outputs": [
    {
     "name": "stdout",
     "output_type": "stream",
     "text": [
      "Evaluation score: 0.9494006711929528\n"
     ]
    }
   ],
   "source": [
    "print('Evaluation score:', score/4)"
   ]
  },
  {
   "cell_type": "code",
   "execution_count": 19,
   "id": "f9379110-18a3-4891-a522-20168455d14d",
   "metadata": {},
   "outputs": [
    {
     "data": {
      "image/png": "[encoded data removed]",
      "text/plain": [
       "<Figure size 1440x288 with 8 Axes>"
      ]
     },
     "metadata": {},
     "output_type": "display_data"
    }
   ],
   "source": [
    "fig, axs = plt.subplots(1, 4, figsize=(20, 4))\n",
    "\n",
    "for i, ax in enumerate(axs):\n",
    "    ax.set_aspect('equal')\n",
    "\n",
    "    img=ax.hexbin(y_v[:, i], y_hat[:, i], cmap='viridis', mincnt=1)\n",
    "\n",
    "    ax.plot(np.arange(np.min(y_v[:, i]), np.max(y_v[:, i])), np.arange(np.min(y_v[:, i]), np.max(y_v[:, i])), 'r--')\n",
    "\n",
    "    plt.colorbar(img, ax=ax)\n",
    "    \n",
    "    ax.set_xlabel('True ' + cols[i])\n",
    "    ax.set_ylabel('Predicted ' + cols[i])"
   ]
  },
  {
   "cell_type": "code",
   "execution_count": 20,
   "id": "941d1d48-da41-46c1-b4ce-2b12d2495f16",
   "metadata": {},
   "outputs": [],
   "source": [
    "X_test = preprocess(X_test)\n",
    "\n",
    "predictions = rf.predict(X_test)\n",
    "\n",
    "\n",
    "submission = pd.DataFrame(data = predictions, columns=[\"P\", \"K\", \"Mg\", \"pH\"])\n",
    "submission.to_csv(\"submission.csv\", index_label=\"sample_index\")"
   ]
  },
  {
   "cell_type": "code",
   "execution_count": 21,
   "id": "1ad5786d-6f5a-46ac-bc49-2bc6133c7bb9",
   "metadata": {},
   "outputs": [
    {
     "data": {
      "text/html": [
       "<div>\n",
       "<style scoped>\n",
       "    .dataframe tbody tr th:only-of-type {\n",
       "        vertical-align: middle;\n",
       "    }\n",
       "\n",
       "    .dataframe tbody tr th {\n",
       "        vertical-align: top;\n",
       "    }\n",
       "\n",
       "    .dataframe thead th {\n",
       "        text-align: right;\n",
       "    }\n",
       "</style>\n",
       "<table border=\"1\" class=\"dataframe\">\n",
       "  <thead>\n",
       "    <tr style=\"text-align: right;\">\n",
       "      <th></th>\n",
       "      <th>P</th>\n",
       "      <th>K</th>\n",
       "      <th>Mg</th>\n",
       "      <th>pH</th>\n",
       "    </tr>\n",
       "  </thead>\n",
       "  <tbody>\n",
       "    <tr>\n",
       "      <th>0</th>\n",
       "      <td>65.604</td>\n",
       "      <td>220.46</td>\n",
       "      <td>151.828</td>\n",
       "      <td>6.7965</td>\n",
       "    </tr>\n",
       "    <tr>\n",
       "      <th>1</th>\n",
       "      <td>68.451</td>\n",
       "      <td>229.95</td>\n",
       "      <td>176.684</td>\n",
       "      <td>6.9218</td>\n",
       "    </tr>\n",
       "    <tr>\n",
       "      <th>2</th>\n",
       "      <td>66.676</td>\n",
       "      <td>210.03</td>\n",
       "      <td>169.629</td>\n",
       "      <td>6.8820</td>\n",
       "    </tr>\n",
       "    <tr>\n",
       "      <th>3</th>\n",
       "      <td>94.787</td>\n",
       "      <td>271.20</td>\n",
       "      <td>186.568</td>\n",
       "      <td>6.8699</td>\n",
       "    </tr>\n",
       "    <tr>\n",
       "      <th>4</th>\n",
       "      <td>75.430</td>\n",
       "      <td>212.20</td>\n",
       "      <td>122.658</td>\n",
       "      <td>6.7507</td>\n",
       "    </tr>\n",
       "    <tr>\n",
       "      <th>...</th>\n",
       "      <td>...</td>\n",
       "      <td>...</td>\n",
       "      <td>...</td>\n",
       "      <td>...</td>\n",
       "    </tr>\n",
       "    <tr>\n",
       "      <th>1149</th>\n",
       "      <td>64.039</td>\n",
       "      <td>210.87</td>\n",
       "      <td>154.346</td>\n",
       "      <td>6.7086</td>\n",
       "    </tr>\n",
       "    <tr>\n",
       "      <th>1150</th>\n",
       "      <td>65.862</td>\n",
       "      <td>207.87</td>\n",
       "      <td>153.220</td>\n",
       "      <td>6.6902</td>\n",
       "    </tr>\n",
       "    <tr>\n",
       "      <th>1151</th>\n",
       "      <td>63.226</td>\n",
       "      <td>199.82</td>\n",
       "      <td>166.888</td>\n",
       "      <td>6.7811</td>\n",
       "    </tr>\n",
       "    <tr>\n",
       "      <th>1152</th>\n",
       "      <td>63.353</td>\n",
       "      <td>224.24</td>\n",
       "      <td>162.518</td>\n",
       "      <td>6.6820</td>\n",
       "    </tr>\n",
       "    <tr>\n",
       "      <th>1153</th>\n",
       "      <td>60.902</td>\n",
       "      <td>220.93</td>\n",
       "      <td>142.592</td>\n",
       "      <td>6.6356</td>\n",
       "    </tr>\n",
       "  </tbody>\n",
       "</table>\n",
       "<p>1154 rows × 4 columns</p>\n",
       "</div>"
      ],
      "text/plain": [
       "           P       K       Mg      pH\n",
       "0     65.604  220.46  151.828  6.7965\n",
       "1     68.451  229.95  176.684  6.9218\n",
       "2     66.676  210.03  169.629  6.8820\n",
       "3     94.787  271.20  186.568  6.8699\n",
       "4     75.430  212.20  122.658  6.7507\n",
       "...      ...     ...      ...     ...\n",
       "1149  64.039  210.87  154.346  6.7086\n",
       "1150  65.862  207.87  153.220  6.6902\n",
       "1151  63.226  199.82  166.888  6.7811\n",
       "1152  63.353  224.24  162.518  6.6820\n",
       "1153  60.902  220.93  142.592  6.6356\n",
       "\n",
       "[1154 rows x 4 columns]"
      ]
     },
     "execution_count": 21,
     "metadata": {},
     "output_type": "execute_result"
    }
   ],
   "source": [
    "submission"
   ]
  },
  {
   "cell_type": "code",
   "execution_count": null,
   "id": "b116779a-9472-466e-962f-24115c071d77",
   "metadata": {},
   "outputs": [],
   "source": []
  }
 ],
 "metadata": {
  "kernelspec": {
   "display_name": "Python 3 (ipykernel)",
   "language": "python",
   "name": "python3"
  },
  "language_info": {
   "codemirror_mode": {
    "name": "ipython",
    "version": 3
   },
   "file_extension": ".py",
   "mimetype": "text/x-python",
   "name": "python",
   "nbconvert_exporter": "python",
   "pygments_lexer": "ipython3",
   "version": "3.8.5"
  }
 },
 "nbformat": 4,
 "nbformat_minor": 5
}
