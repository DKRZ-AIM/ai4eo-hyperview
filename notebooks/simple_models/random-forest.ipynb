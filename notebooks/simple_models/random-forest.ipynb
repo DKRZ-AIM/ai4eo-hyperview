{
 "cells": [
  {
   "cell_type": "code",
   "execution_count": 1,
   "id": "97f3de5e-d7ea-4da1-99f5-608cae744165",
   "metadata": {},
   "outputs": [
    {
     "name": "stderr",
     "output_type": "stream",
     "text": [
      "/p/software/juwels/stages/2020/software/Jupyter/2021.3.2-gcccoremkl-10.3.0-2021.2.0-Python-3.8.5/lib/python3.8/site-packages/statsmodels/tools/_testing.py:19: FutureWarning: pandas.util.testing is deprecated. Use the functions in the public API at pandas.testing instead.\n",
      "  import pandas.util.testing as tm\n"
     ]
    }
   ],
   "source": [
    "import os\n",
    "from glob import glob\n",
    "import numpy as np\n",
    "import pandas as pd\n",
    "\n",
    "from matplotlib import pyplot as plt\n",
    "from matplotlib import colors\n",
    "\n",
    "import seaborn as sns\n",
    "sns.set_style('whitegrid')"
   ]
  },
  {
   "cell_type": "code",
   "execution_count": 2,
   "id": "a042c86e-bf11-4b3b-8a93-0445b6910cbf",
   "metadata": {},
   "outputs": [
    {
     "name": "stdout",
     "output_type": "stream",
     "text": [
      "Defaulting to user installation because normal site-packages is not writeable\n",
      "Requirement already satisfied: xgboost in /p/home/jusers/arnold5/juwels/.local/lib/python3.8/site-packages (1.5.2)\n",
      "Requirement already satisfied: scipy in /p/software/juwels/stages/2020/software/SciPy-Stack/2021-gcccoremkl-10.3.0-2021.2.0-Python-3.8.5/lib/python3.8/site-packages/scipy-1.5.2-py3.8-linux-x86_64.egg (from xgboost) (1.5.2)\n",
      "Requirement already satisfied: numpy in /p/software/juwels/stages/2020/software/SciPy-Stack/2021-gcccoremkl-10.3.0-2021.2.0-Python-3.8.5/lib/python3.8/site-packages/numpy-1.19.1-py3.8-linux-x86_64.egg (from xgboost) (1.19.1)\n"
     ]
    }
   ],
   "source": [
    "!pip install xgboost"
   ]
  },
  {
   "cell_type": "code",
   "execution_count": 3,
   "id": "b72740f6-c058-4b63-93b1-fbea1c3d5247",
   "metadata": {},
   "outputs": [],
   "source": [
    "class BaselineRegressor:\n",
    "    \"\"\"\n",
    "    Baseline regressor, which calculates the mean value of the target from the training\n",
    "    data and returns it for each testing sample.\n",
    "    \"\"\"\n",
    "    def __init__(self):\n",
    "        self.mean = 0\n",
    "\n",
    "    def fit(self, X_train: np.ndarray, y_train: np.ndarray):\n",
    "        self.mean = np.mean(y_train, axis=0)\n",
    "        self.classes_count = y_train.shape[1]\n",
    "        return self\n",
    "\n",
    "    def predict(self, X_test: np.ndarray):\n",
    "        return np.full((len(X_test), self.classes_count), self.mean)\n",
    "\n",
    "\n",
    "class SpectralCurveFiltering():\n",
    "    \"\"\"\n",
    "    Create a histogram (a spectral curve) of a 3D cube, using the merge_function\n",
    "    to aggregate all pixels within one band. The return array will have\n",
    "    the shape of [CHANNELS_COUNT]\n",
    "    \"\"\"\n",
    "\n",
    "    def __init__(self, merge_function = np.mean):\n",
    "        self.merge_function = merge_function\n",
    "\n",
    "    def __call__(self, sample: np.ndarray):\n",
    "        return self.merge_function(sample, axis=(1, 2))\n"
   ]
  },
  {
   "cell_type": "code",
   "execution_count": 4,
   "id": "bbc0603f-84a6-49f1-a8e0-bdd72a4ba35e",
   "metadata": {},
   "outputs": [],
   "source": [
    "def load_data(directory: str):\n",
    "    \"\"\"Load each cube, reduce its dimensionality and append to array.\n",
    "\n",
    "    Args:\n",
    "        directory (str): Directory to either train or test set\n",
    "    Returns:\n",
    "        [type]: A list with spectral curve for each sample.\n",
    "    \"\"\"\n",
    "    data = []\n",
    "    filtering = SpectralCurveFiltering()\n",
    "    all_files = np.array(\n",
    "        sorted(\n",
    "            glob(os.path.join(directory, \"*.npz\")),\n",
    "            key=lambda x: int(os.path.basename(x).replace(\".npz\", \"\")),\n",
    "        )\n",
    "    )\n",
    "    for file_name in all_files:\n",
    "        with np.load(file_name) as npz:\n",
    "            arr = np.ma.MaskedArray(**npz)\n",
    "        arr = filtering(arr)\n",
    "        data.append(arr)\n",
    "    return np.array(data)\n",
    "\n",
    "\n",
    "def load_gt(file_path: str):\n",
    "    \"\"\"Load labels for train set from the ground truth file.\n",
    "    Args:\n",
    "        file_path (str): Path to the ground truth .csv file.\n",
    "    Returns:\n",
    "        [type]: 2D numpy array with soil properties levels\n",
    "    \"\"\"\n",
    "    gt_file = pd.read_csv(file_path)\n",
    "    labels = gt_file[[\"P\", \"K\", \"Mg\", \"pH\"]].values\n",
    "    return labels"
   ]
  },
  {
   "cell_type": "code",
   "execution_count": 5,
   "id": "3fae8ec5-c39a-47ba-86b3-784a767f7345",
   "metadata": {},
   "outputs": [],
   "source": [
    "cols = [\"P2O5\", \"K\", \"Mg\", \"pH\"]"
   ]
  },
  {
   "cell_type": "code",
   "execution_count": 6,
   "id": "62bb7c70-e7db-4dae-be63-53f4e4e96717",
   "metadata": {},
   "outputs": [
    {
     "name": "stdout",
     "output_type": "stream",
     "text": [
      "Train data shape: (1732, 150)\n",
      "Test data shape: (1154, 150)\n"
     ]
    }
   ],
   "source": [
    "raw_data = '/p/project/hai_cons_ee/data/ai4eo-hyperspectral/raw_data/train_data/'\n",
    "train_data = os.path.join(raw_data, 'train_data')\n",
    "test_data = '/p/project/hai_cons_ee/data/ai4eo-hyperspectral/raw_data/test_data/'\n",
    "\n",
    "X_train = load_data(train_data)\n",
    "y_train = load_gt(os.path.join(raw_data, \"train_gt.csv\"))\n",
    "X_test = load_data(test_data)\n",
    "\n",
    "print(f\"Train data shape: {X_train.shape}\")\n",
    "print(f\"Test data shape: {X_test.shape}\")"
   ]
  },
  {
   "cell_type": "code",
   "execution_count": 7,
   "id": "d8e0295f-038e-42c8-afb0-acb5b2bbea46",
   "metadata": {},
   "outputs": [],
   "source": [
    "from sklearn.ensemble import RandomForestRegressor\n",
    "from sklearn.model_selection import train_test_split, KFold\n",
    "from sklearn.metrics import mean_squared_error"
   ]
  },
  {
   "cell_type": "code",
   "execution_count": 8,
   "id": "60dd11ef-521a-4585-98d8-5f18ff4bbc77",
   "metadata": {},
   "outputs": [],
   "source": [
    "def preprocess(X):\n",
    "    X /= 1850\n",
    "    X = X.reshape(len(X), 15, 10).mean(axis=-1)\n",
    "\n",
    "    dXdl = np.gradient(X, axis=1)\n",
    "    d2Xdl2 = np.gradient(dXdl, axis=1)\n",
    "\n",
    "    X = np.concatenate((X, dXdl, d2Xdl2), axis=1)\n",
    "    # X = np.concatenate((X, dXdl), axis=1)\n",
    "\n",
    "    return X"
   ]
  },
  {
   "cell_type": "code",
   "execution_count": 9,
   "id": "157820e0-959a-4824-9183-51f27f3d00ee",
   "metadata": {},
   "outputs": [],
   "source": [
    "col_ix = [0,1,2,3]"
   ]
  },
  {
   "cell_type": "code",
   "execution_count": 10,
   "id": "21473051-33fc-4513-93de-a7df2311d83c",
   "metadata": {},
   "outputs": [
    {
     "name": "stdout",
     "output_type": "stream",
     "text": [
      "(1732, 4)\n"
     ]
    }
   ],
   "source": [
    "y_train_col = y_train[:, col_ix] # selected set of labels\n",
    "print(y_train_col.shape)"
   ]
  },
  {
   "cell_type": "code",
   "execution_count": 11,
   "id": "45457424-b8e5-444c-a423-1fdfa6270c90",
   "metadata": {},
   "outputs": [
    {
     "data": {
      "text/plain": [
       "5"
      ]
     },
     "execution_count": 11,
     "metadata": {},
     "output_type": "execute_result"
    }
   ],
   "source": [
    "kfold = KFold(shuffle=True, random_state=2022)\n",
    "kfold.get_n_splits(X_train, y_train_col)"
   ]
  },
  {
   "cell_type": "code",
   "execution_count": 12,
   "id": "30e7cf2c-9a28-4f9b-a062-3855ca8f4754",
   "metadata": {},
   "outputs": [
    {
     "name": "stdout",
     "output_type": "stream",
     "text": [
      "0.07218213685277433\n",
      "0.11246938875677356\n",
      "0.05702878364909161\n",
      "0.07839573377430295\n",
      "0.05614859296714417\n"
     ]
    }
   ],
   "source": [
    "random_forests = []\n",
    "baseline_regressors = []\n",
    "\n",
    "y_hat_bl = []\n",
    "y_hat_rf = []\n",
    "\n",
    "for ix_train, ix_valid in kfold.split(X_train, y_train_col):\n",
    "\n",
    "    X_t = X_train[ix_train]\n",
    "    y_t = y_train_col[ix_train]\n",
    "    X_v = X_train[ix_valid]\n",
    "    y_v = y_train_col[ix_valid]\n",
    "\n",
    "    X_t = preprocess(X_t)\n",
    "    X_v = preprocess(X_v)\n",
    "\n",
    "    # baseline\n",
    "\n",
    "    baseline = BaselineRegressor()\n",
    "    baseline.fit(X_t, y_t)\n",
    "\n",
    "    baseline_regressors.append(baseline)\n",
    "\n",
    "    # random forest\n",
    "\n",
    "    rf = RandomForestRegressor()\n",
    "    rf.fit(X_t, y_t)\n",
    "    print(rf.score(X_v, y_v))\n",
    "\n",
    "    random_forests.append(rf)\n",
    "    \n",
    "    # predictions\n",
    "    \n",
    "    y_hat = rf.predict(X_v)\n",
    "    y_b = baseline.predict(X_v)\n",
    "    \n",
    "    y_hat_bl.append(y_b)\n",
    "    y_hat_rf.append(y_hat)"
   ]
  },
  {
   "cell_type": "code",
   "execution_count": 13,
   "id": "0bd499e5-35ed-4a3a-9c68-50f4096bf83e",
   "metadata": {},
   "outputs": [
    {
     "name": "stdout",
     "output_type": "stream",
     "text": [
      "******************** 0\n",
      "Baseline MSE:      734.85\n",
      "Random Forest MSE: 762.86 (+3.81 %)\n",
      "******************** 1\n",
      "Baseline MSE:      2962.60\n",
      "Random Forest MSE: 2886.19 (-2.58 %)\n",
      "******************** 2\n",
      "Baseline MSE:      1638.43\n",
      "Random Forest MSE: 1508.12 (-7.95 %)\n",
      "******************** 3\n",
      "Baseline MSE:      0.08\n",
      "Random Forest MSE: 0.06 (-16.91 %)\n"
     ]
    }
   ],
   "source": [
    "# for now only the last fold\n",
    "\n",
    "score = 0\n",
    "\n",
    "for i in range(4):\n",
    "    print('*'*20, i)\n",
    "    mse_rf = mean_squared_error(y_v[:, i], y_hat[:, i])\n",
    "    mse_bl = mean_squared_error(y_v[:, i], y_b[:, i])\n",
    "    \n",
    "    score += mse_rf / mse_bl\n",
    "    \n",
    "    print(f'Baseline MSE:      {mse_bl:.2f}')\n",
    "    print(f'Random Forest MSE: {mse_rf:.2f} ({1e2*(mse_rf - mse_bl)/mse_bl:+.2f} %)')"
   ]
  },
  {
   "cell_type": "raw",
   "id": "d70eaa5b-54ef-45a6-b053-f798a46d7716",
   "metadata": {},
   "source": [
    "Score is calculated as sum(mse/mse_bl)/4 (lower is better)"
   ]
  },
  {
   "cell_type": "code",
   "execution_count": 14,
   "id": "522e2e11-331d-42bd-8945-10c1745d15cd",
   "metadata": {},
   "outputs": [
    {
     "name": "stdout",
     "output_type": "stream",
     "text": [
      "Evaluation score: 0.9409217942458785\n"
     ]
    }
   ],
   "source": [
    "print('Evaluation score:', score/4)"
   ]
  },
  {
   "cell_type": "code",
   "execution_count": 15,
   "id": "f9379110-18a3-4891-a522-20168455d14d",
   "metadata": {},
   "outputs": [
    {
     "data": {
      "image/png": "[encoded data removed]",
      "text/plain": [
       "<Figure size 1440x288 with 8 Axes>"
      ]
     },
     "metadata": {},
     "output_type": "display_data"
    }
   ],
   "source": [
    "fig, axs = plt.subplots(1, 4, figsize=(20, 4))\n",
    "\n",
    "for i, ax in enumerate(axs):\n",
    "    ax.set_aspect('equal')\n",
    "\n",
    "    img = ax.hexbin(y_v[:, i], y_hat[:, i], cmap='viridis', mincnt=1)\n",
    "\n",
    "    ax.plot(np.arange(np.min(y_v[:, i]), np.max(y_v[:, i])),\n",
    "            np.arange(np.min(y_v[:, i]), np.max(y_v[:, i])), 'r--')\n",
    "\n",
    "    plt.colorbar(img, ax=ax)\n",
    "\n",
    "    ax.set_xlabel('True ' + cols[i])\n",
    "    ax.set_ylabel('Predicted ' + cols[i])"
   ]
  },
  {
   "cell_type": "code",
   "execution_count": 18,
   "id": "941d1d48-da41-46c1-b4ce-2b12d2495f16",
   "metadata": {},
   "outputs": [
    {
     "name": "stdout",
     "output_type": "stream",
     "text": [
      "(5, 1154, 4)\n"
     ]
    }
   ],
   "source": [
    "X_test = load_data(test_data)\n",
    "X_test = preprocess(X_test)\n",
    "\n",
    "predictions = []\n",
    "\n",
    "for rf in random_forests:\n",
    "    pp = rf.predict(X_test)\n",
    "    predictions.append(pp)\n",
    "    \n",
    "predictions = np.asarray(predictions)\n",
    "print(predictions.shape)\n",
    "\n",
    "predictions = np.mean(predictions, axis=0)\n",
    "\n",
    "submission = pd.DataFrame(data = predictions, columns=[\"P\", \"K\", \"Mg\", \"pH\"])\n",
    "submission.to_csv(\"submission.csv\", index_label=\"sample_index\")"
   ]
  },
  {
   "cell_type": "code",
   "execution_count": 19,
   "id": "1ad5786d-6f5a-46ac-bc49-2bc6133c7bb9",
   "metadata": {},
   "outputs": [
    {
     "data": {
      "text/html": [
       "<div>\n",
       "<style scoped>\n",
       "    .dataframe tbody tr th:only-of-type {\n",
       "        vertical-align: middle;\n",
       "    }\n",
       "\n",
       "    .dataframe tbody tr th {\n",
       "        vertical-align: top;\n",
       "    }\n",
       "\n",
       "    .dataframe thead th {\n",
       "        text-align: right;\n",
       "    }\n",
       "</style>\n",
       "<table border=\"1\" class=\"dataframe\">\n",
       "  <thead>\n",
       "    <tr style=\"text-align: right;\">\n",
       "      <th></th>\n",
       "      <th>P</th>\n",
       "      <th>K</th>\n",
       "      <th>Mg</th>\n",
       "      <th>pH</th>\n",
       "    </tr>\n",
       "  </thead>\n",
       "  <tbody>\n",
       "    <tr>\n",
       "      <th>0</th>\n",
       "      <td>71.7178</td>\n",
       "      <td>230.020</td>\n",
       "      <td>161.6368</td>\n",
       "      <td>6.86946</td>\n",
       "    </tr>\n",
       "    <tr>\n",
       "      <th>1</th>\n",
       "      <td>69.4510</td>\n",
       "      <td>235.466</td>\n",
       "      <td>180.4612</td>\n",
       "      <td>6.91828</td>\n",
       "    </tr>\n",
       "    <tr>\n",
       "      <th>2</th>\n",
       "      <td>64.8914</td>\n",
       "      <td>215.090</td>\n",
       "      <td>162.6458</td>\n",
       "      <td>6.87824</td>\n",
       "    </tr>\n",
       "    <tr>\n",
       "      <th>3</th>\n",
       "      <td>92.0014</td>\n",
       "      <td>264.596</td>\n",
       "      <td>180.0638</td>\n",
       "      <td>6.85336</td>\n",
       "    </tr>\n",
       "    <tr>\n",
       "      <th>4</th>\n",
       "      <td>73.6512</td>\n",
       "      <td>225.166</td>\n",
       "      <td>161.1938</td>\n",
       "      <td>6.93060</td>\n",
       "    </tr>\n",
       "    <tr>\n",
       "      <th>...</th>\n",
       "      <td>...</td>\n",
       "      <td>...</td>\n",
       "      <td>...</td>\n",
       "      <td>...</td>\n",
       "    </tr>\n",
       "    <tr>\n",
       "      <th>1149</th>\n",
       "      <td>60.3086</td>\n",
       "      <td>193.354</td>\n",
       "      <td>146.5596</td>\n",
       "      <td>6.68606</td>\n",
       "    </tr>\n",
       "    <tr>\n",
       "      <th>1150</th>\n",
       "      <td>59.4920</td>\n",
       "      <td>198.624</td>\n",
       "      <td>142.1098</td>\n",
       "      <td>6.62514</td>\n",
       "    </tr>\n",
       "    <tr>\n",
       "      <th>1151</th>\n",
       "      <td>67.6988</td>\n",
       "      <td>218.148</td>\n",
       "      <td>159.9886</td>\n",
       "      <td>6.73468</td>\n",
       "    </tr>\n",
       "    <tr>\n",
       "      <th>1152</th>\n",
       "      <td>58.5952</td>\n",
       "      <td>198.008</td>\n",
       "      <td>144.4318</td>\n",
       "      <td>6.64698</td>\n",
       "    </tr>\n",
       "    <tr>\n",
       "      <th>1153</th>\n",
       "      <td>60.1824</td>\n",
       "      <td>215.740</td>\n",
       "      <td>140.9796</td>\n",
       "      <td>6.59422</td>\n",
       "    </tr>\n",
       "  </tbody>\n",
       "</table>\n",
       "<p>1154 rows × 4 columns</p>\n",
       "</div>"
      ],
      "text/plain": [
       "            P        K        Mg       pH\n",
       "0     71.7178  230.020  161.6368  6.86946\n",
       "1     69.4510  235.466  180.4612  6.91828\n",
       "2     64.8914  215.090  162.6458  6.87824\n",
       "3     92.0014  264.596  180.0638  6.85336\n",
       "4     73.6512  225.166  161.1938  6.93060\n",
       "...       ...      ...       ...      ...\n",
       "1149  60.3086  193.354  146.5596  6.68606\n",
       "1150  59.4920  198.624  142.1098  6.62514\n",
       "1151  67.6988  218.148  159.9886  6.73468\n",
       "1152  58.5952  198.008  144.4318  6.64698\n",
       "1153  60.1824  215.740  140.9796  6.59422\n",
       "\n",
       "[1154 rows x 4 columns]"
      ]
     },
     "execution_count": 19,
     "metadata": {},
     "output_type": "execute_result"
    }
   ],
   "source": [
    "submission"
   ]
  },
  {
   "cell_type": "code",
   "execution_count": null,
   "id": "0862ec17-3700-4805-8ab4-8300e2cddf98",
   "metadata": {},
   "outputs": [],
   "source": []
  }
 ],
 "metadata": {
  "kernelspec": {
   "display_name": "Python 3 (ipykernel)",
   "language": "python",
   "name": "python3"
  },
  "language_info": {
   "codemirror_mode": {
    "name": "ipython",
    "version": 3
   },
   "file_extension": ".py",
   "mimetype": "text/x-python",
   "name": "python",
   "nbconvert_exporter": "python",
   "pygments_lexer": "ipython3",
   "version": "3.8.5"
  }
 },
 "nbformat": 4,
 "nbformat_minor": 5
}
