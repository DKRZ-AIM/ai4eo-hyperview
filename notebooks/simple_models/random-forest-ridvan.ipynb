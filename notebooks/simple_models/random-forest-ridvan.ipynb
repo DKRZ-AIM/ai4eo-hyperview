{
 "cells": [
  {
   "cell_type": "code",
   "execution_count": 1,
   "id": "0339eb3a-8ef8-4823-83ed-ba3e9d69159a",
   "metadata": {},
   "outputs": [],
   "source": [
    "import os\n",
    "from glob import glob\n",
    "import numpy as np\n",
    "import pandas as pd\n",
    "\n",
    "from matplotlib import pyplot as plt\n",
    "from matplotlib import colors\n",
    "\n",
    "import seaborn as sns\n",
    "sns.set_style('whitegrid')"
   ]
  },
  {
   "cell_type": "code",
   "execution_count": 2,
   "id": "dd85b829-f4e6-482d-b080-679b21d02a6a",
   "metadata": {},
   "outputs": [
    {
     "name": "stdout",
     "output_type": "stream",
     "text": [
      "Requirement already satisfied: xgboost in /local_home/kuzu_ri/miniconda3/envs/ai/lib/python3.8/site-packages (1.5.2)\n",
      "Requirement already satisfied: numpy in /local_home/kuzu_ri/miniconda3/envs/ai/lib/python3.8/site-packages (from xgboost) (1.22.3)\n",
      "Requirement already satisfied: scipy in /local_home/kuzu_ri/miniconda3/envs/ai/lib/python3.8/site-packages (from xgboost) (1.6.2)\n"
     ]
    }
   ],
   "source": [
    "!pip install xgboost"
   ]
  },
  {
   "cell_type": "code",
   "execution_count": 3,
   "id": "703e1e54-3155-454f-b812-a8f93c176d1c",
   "metadata": {},
   "outputs": [],
   "source": [
    "class BaselineRegressor:\n",
    "    \"\"\"\n",
    "    Baseline regressor, which calculates the mean value of the target from the training\n",
    "    data and returns it for each testing sample.\n",
    "    \"\"\"\n",
    "    def __init__(self):\n",
    "        self.mean = 0\n",
    "\n",
    "    def fit(self, X_train: np.ndarray, y_train: np.ndarray):\n",
    "        self.mean = np.mean(y_train, axis=0)\n",
    "        self.classes_count = y_train.shape[1]\n",
    "        return self\n",
    "\n",
    "    def predict(self, X_test: np.ndarray):\n",
    "        return np.full((len(X_test), self.classes_count), self.mean)\n",
    "\n",
    "\n",
    "class SpectralCurveFiltering():\n",
    "    \"\"\"\n",
    "    Create a histogram (a spectral curve) of a 3D cube, using the merge_function\n",
    "    to aggregate all pixels within one band. The return array will have\n",
    "    the shape of [CHANNELS_COUNT]\n",
    "    \"\"\"\n",
    "\n",
    "    def __init__(self, merge_function = np.mean):\n",
    "        self.merge_function = merge_function\n",
    "\n",
    "    def __call__(self, sample: np.ndarray):\n",
    "        return self.merge_function(sample, axis=(1, 2))\n"
   ]
  },
  {
   "cell_type": "code",
   "execution_count": 4,
   "id": "54f019dd-0fd1-4361-9556-966ee37bf606",
   "metadata": {},
   "outputs": [],
   "source": [
    "from sklearn.decomposition import NMF,FastICA,FactorAnalysis\n",
    "def load_data(directory: str):\n",
    "    \"\"\"Load each cube, reduce its dimensionality and append to array.\n",
    "\n",
    "    Args:\n",
    "        directory (str): Directory to either train or test set\n",
    "    Returns:\n",
    "        [type]: A list with spectral curve for each sample.\n",
    "    \"\"\"\n",
    "    datalist = []\n",
    "    masklist = []\n",
    "    \n",
    "    all_files = np.array(\n",
    "        sorted(\n",
    "            glob(os.path.join(directory, \"*.npz\")),\n",
    "            key=lambda x: int(os.path.basename(x).replace(\".npz\", \"\")),\n",
    "        )\n",
    "    )\n",
    "    for file_name in all_files:\n",
    "        with np.load(file_name) as npz:\n",
    "            mask = npz['mask']\n",
    "            data=npz['data']\n",
    "            \n",
    "            datalist.append(data)\n",
    "            masklist.append(mask)\n",
    "    return datalist,masklist\n",
    "            \n",
    "\n",
    "\n",
    "def load_gt(file_path: str):\n",
    "    \"\"\"Load labels for train set from the ground truth file.\n",
    "    Args:\n",
    "        file_path (str): Path to the ground truth .csv file.\n",
    "    Returns:\n",
    "        [type]: 2D numpy array with soil properties levels\n",
    "    \"\"\"\n",
    "    gt_file = pd.read_csv(file_path)\n",
    "    labels = gt_file[[\"P\", \"K\", \"Mg\", \"pH\"]].values/np.array([325.0, 625.0, 400.0, 7.8]) # normalize ground-truth between 0-1\n",
    "    return labels"
   ]
  },
  {
   "cell_type": "code",
   "execution_count": 5,
   "id": "2105dbe0-2fe7-43a9-8a1e-d1a584d29e4b",
   "metadata": {},
   "outputs": [],
   "source": [
    "cols = [\"P2O5\", \"K\", \"Mg\", \"pH\"]"
   ]
  },
  {
   "cell_type": "code",
   "execution_count": 7,
   "id": "639c15cd-f69e-4adb-92f7-beececa3e7ea",
   "metadata": {},
   "outputs": [
    {
     "name": "stdout",
     "output_type": "stream",
     "text": [
      "Train data size: 1732\n",
      "Test data size: 1154\n"
     ]
    }
   ],
   "source": [
    "\n",
    "raw_data = '/p/project/hai_cons_ee/kuzu/ai4eo-hyperview/hyperview/keras/train_data'\n",
    "raw_data='/local_home/kuzu_ri/GIT_REPO/ai4eo_hyperview/hyperview/keras/train_data'\n",
    "train_data = os.path.join(raw_data, 'train_data')\n",
    "test_data = '/p/project/hai_cons_ee/kuzu/ai4eo-hyperview/hyperview/keras/test_data'\n",
    "\n",
    "test_data='/local_home/kuzu_ri/GIT_REPO/ai4eo_hyperview/hyperview/keras/test_data'\n",
    "X_train, M_train = load_data(train_data)\n",
    "y_train = load_gt(os.path.join(raw_data, \"train_gt.csv\"))\n",
    "X_test,M_test = load_data(test_data)\n",
    "\n",
    "print(f\"Train data size: {len(X_train)}\")\n",
    "print(f\"Test data size: {len(X_test)}\")"
   ]
  },
  {
   "cell_type": "code",
   "execution_count": 12,
   "id": "c74738b1",
   "metadata": {},
   "outputs": [
    {
     "data": {
      "text/plain": [
       "(150, 42, 42)"
      ]
     },
     "execution_count": 12,
     "metadata": {},
     "output_type": "execute_result"
    }
   ],
   "source": [
    "X_train[1000].shape"
   ]
  },
  {
   "cell_type": "code",
   "execution_count": 8,
   "id": "c0953713-89eb-4786-b3a9-811d519d0ffb",
   "metadata": {},
   "outputs": [
    {
     "data": {
      "application/vnd.jupyter.widget-view+json": {
       "model_id": "e72d45be09ee4301b885d7cec26748da",
       "version_major": 2,
       "version_minor": 0
      },
      "text/plain": [
       "INFO: Preprocessing data ...:   0%|          | 0/1732 [00:00<?, ?it/s]"
      ]
     },
     "metadata": {},
     "output_type": "display_data"
    }
   ],
   "source": [
    "from tqdm.auto import tqdm\n",
    "def preprocess(data_list,mask_list):\n",
    "    \n",
    "    def _shape_pad(data):\n",
    "        max_edge = np.max(image.shape[1:])\n",
    "        shape=(max_edge,max_edge)\n",
    "        padded=np.pad(data,((0, 0),\n",
    "                            (0, (shape[0] - data.shape[1])),\n",
    "                            (0, (shape[1] - data.shape[2]))),\n",
    "                      'wrap')\n",
    "        #print(padded.shape)\n",
    "        return padded\n",
    "    \n",
    "    filtering = SpectralCurveFiltering()\n",
    "    \n",
    "    processed_data=[]\n",
    "    \n",
    "    \n",
    "    for  idx, (data , mask) in enumerate(tqdm(zip(data_list,mask_list), total=len(data_list), position=0, leave=True,\n",
    "                   desc=\"INFO: Preprocessing data ...\")):\n",
    "        \n",
    "            data=data/2210  ## max-max=5419 mean-max=2210\n",
    "            m = (1 - mask.astype(int))\n",
    "            image = (data * m)\n",
    "            image=_shape_pad(image)\n",
    "        \n",
    "            s = np.linalg.svd(image,full_matrices=False,compute_uv=False)\n",
    "            #s = s /np.expand_dims(np.linalg.norm(s,axis=0),0)\n",
    "            #f=np.reshape(image,(150,image.shape[-1]*image.shape[-2]))\n",
    "            #model = NMF(n_components=6, init='random', random_state=0,max_iter=1000)\n",
    "            #model=FastICA(n_components=6, random_state=0,max_iter=1000, tol=0.01)\n",
    "            #model=FactorAnalysis(n_components=6, random_state=0)\n",
    "            #w = model.fit_transform(f)    \n",
    "            #model = NMF(n_components=3, init='random', random_state=0)\n",
    "            #W = model.fit_transform(X)\n",
    "\n",
    "            data = np.ma.MaskedArray(data,mask)\n",
    "            arr = filtering(data)\n",
    "            #arr = arr / np.linalg.norm(arr)\n",
    "\n",
    "            dXdl = np.gradient(arr, axis=0)\n",
    "            #dXdl = dXdl / np.linalg.norm(dXdl)\n",
    "\n",
    "            d2Xdl2 = np.gradient(dXdl, axis=0)\n",
    "            #d2Xdl2 = d2Xdl2 / np.linalg.norm(d2Xdl2)\n",
    "\n",
    "            fft = np.fft.fft(arr)\n",
    "            real=np.real(fft)\n",
    "            #real = real / np.linalg.norm(real)\n",
    "            imag=np.imag(fft)\n",
    "            #imag = imag / np.linalg.norm(imag)\n",
    "            out=np.concatenate([arr,dXdl,d2Xdl2,s[:,0],s[:,1],s[:,2],s[:,3],s[:,4],real,imag],-1)\n",
    "            processed_data.append(out)\n",
    "    \n",
    "    return np.array(processed_data)\n",
    "\n",
    "X_processed = preprocess(X_train, M_train)"
   ]
  },
  {
   "cell_type": "code",
   "execution_count": 16,
   "id": "83b9bca8",
   "metadata": {},
   "outputs": [
    {
     "data": {
      "application/vnd.jupyter.widget-view+json": {
       "model_id": "eb2f85615767424aae96ba1d6d4d7da2",
       "version_major": 2,
       "version_minor": 0
      },
      "text/plain": [
       "INFO: Preprocessing data ...:   0%|          | 0/1154 [00:00<?, ?it/s]"
      ]
     },
     "metadata": {},
     "output_type": "display_data"
    }
   ],
   "source": [
    "X_test,M_test = load_data(test_data)\n",
    "X_test = preprocess(X_test, M_test)\n",
    "\n",
    "np.save('test.npy',X_test)\n"
   ]
  },
  {
   "cell_type": "code",
   "execution_count": 260,
   "id": "386369fe-9d2d-41a3-b0c3-bd7db5b45b9e",
   "metadata": {},
   "outputs": [],
   "source": [
    "def mixing_augmentation(X,y, fract=0.1):\n",
    "    #ma_X=np.zeros(shape=X.shape)\n",
    "    #ma_y=np.zeros(shape=y.shape)\n",
    "\n",
    "    mix_const=0.05 #np.random.rand(X.shape[0])\n",
    "    mix_index_1=np.random.randint(X.shape[0], size=int(np.floor(X.shape[0]*fract)))\n",
    "    mix_index_2=np.random.randint(X.shape[0], size=int(np.floor(X.shape[0]*fract)))\n",
    "    \n",
    "    ma_X = (1 - mix_const) * X[mix_index_1] + mix_const * (X[mix_index_2])\n",
    "    ma_y = (1 - mix_const) * y[mix_index_1] + mix_const * (y[mix_index_2])\n",
    "    return np.concatenate([X,ma_X],0), np.concatenate([y,ma_y],0)"
   ]
  },
  {
   "cell_type": "code",
   "execution_count": 261,
   "id": "9e07c6dc-e99e-43f7-9b2d-c5db585cef38",
   "metadata": {},
   "outputs": [],
   "source": [
    "\n",
    "from sklearn.ensemble import RandomForestRegressor,GradientBoostingRegressor\n",
    "from sklearn.model_selection import train_test_split, KFold\n",
    "from sklearn.metrics import mean_squared_error\n",
    "from sklearn.linear_model import RidgeCV\n",
    "from sklearn.svm import SVR\n",
    "from sklearn.ensemble import RandomForestRegressor\n",
    "from sklearn.ensemble import StackingRegressor\n",
    "from sklearn.linear_model import LassoCV\n",
    "from sklearn.linear_model import RidgeCV\n",
    "from sklearn.multioutput import MultiOutputRegressor"
   ]
  },
  {
   "cell_type": "code",
   "execution_count": 262,
   "id": "a3eec3d8-afc3-424a-8f0c-d058ca0cc234",
   "metadata": {},
   "outputs": [],
   "source": [
    "col_ix = [0,1,2,3]\n",
    "y_train_col = y_train[:, col_ix] # selected set of labels\n"
   ]
  },
  {
   "cell_type": "code",
   "execution_count": 263,
   "id": "ab7633df-b27a-4441-8e3f-80c25042d77b",
   "metadata": {},
   "outputs": [
    {
     "data": {
      "text/plain": [
       "5"
      ]
     },
     "execution_count": 263,
     "metadata": {},
     "output_type": "execute_result"
    }
   ],
   "source": [
    "kfold = KFold(shuffle=True, random_state=2022)\n",
    "kfold.get_n_splits(X_train, y_train_col)"
   ]
  },
  {
   "cell_type": "code",
   "execution_count": 359,
   "id": "f472efbf-1976-41ce-9452-e41f1d0dfa7b",
   "metadata": {},
   "outputs": [
    {
     "name": "stdout",
     "output_type": "stream",
     "text": [
      "0.11143757049895495\n",
      "0.15426389082411024\n",
      "0.15308853082574975\n",
      "0.15158412209618452\n",
      "0.14248628833002183\n"
     ]
    }
   ],
   "source": [
    "random_forests = []\n",
    "baseline_regressors = []\n",
    "\n",
    "y_hat_bl = []\n",
    "y_hat_rf = []\n",
    "\n",
    "\n",
    "for ix_train, ix_valid in kfold.split(np.arange(0,len(y_train))):\n",
    "\n",
    "    X_t = X_processed[ix_train]\n",
    "    y_t = y_train_col[ix_train]\n",
    "    #X_t , y_t = mixing_augmentation(X_t,y_t)\n",
    "    \n",
    "    X_v = X_processed[ix_valid]\n",
    "    y_v = y_train_col[ix_valid]\n",
    "\n",
    "\n",
    "    # baseline\n",
    "\n",
    "    baseline = BaselineRegressor()\n",
    "    baseline.fit(X_t, y_t)\n",
    "\n",
    "    baseline_regressors.append(baseline)\n",
    "\n",
    "    # random forest\n",
    "    #estimators = [('lr', RandomForestRegressor()),('svr', HistGradientBoostingRegressor())]\n",
    "    #estimators = [\n",
    "    #('Random Forest', RandomForestRegressor(random_state=42)),\n",
    "    #('Lasso', LassoCV()),\n",
    "    #('Gradient Boosting', HistGradientBoostingRegressor(random_state=0))]\n",
    "    #mu = StackingRegressor(estimators=estimators, final_estimator=SVR())\n",
    "    rf = RandomForestRegressor(n_estimators=1000,n_jobs=-1,criterion=\"mse\")\n",
    "    rf.fit(X_t, y_t)\n",
    "    print(rf.score(X_v, y_v))\n",
    "\n",
    "    random_forests.append(rf)\n",
    "    \n",
    "    # predictions\n",
    "    \n",
    "    y_hat = rf.predict(X_v)\n",
    "    y_b = baseline.predict(X_v)\n",
    "    \n",
    "    y_hat_bl.append(y_b)\n",
    "    y_hat_rf.append(y_hat)"
   ]
  },
  {
   "cell_type": "code",
   "execution_count": 360,
   "id": "23ed1705-f028-413c-9db1-a5dd4a1106f8",
   "metadata": {},
   "outputs": [
    {
     "name": "stdout",
     "output_type": "stream",
     "text": [
      "******************** 0\n",
      "Baseline MSE:      734.85\n",
      "Random Forest MSE: 693.90 (-5.57 %)\n",
      "******************** 1\n",
      "Baseline MSE:      2962.60\n",
      "Random Forest MSE: 2359.24 (-20.37 %)\n",
      "******************** 2\n",
      "Baseline MSE:      1638.43\n",
      "Random Forest MSE: 1455.31 (-11.18 %)\n",
      "******************** 3\n",
      "Baseline MSE:      0.08\n",
      "Random Forest MSE: 0.06 (-20.91 %)\n"
     ]
    }
   ],
   "source": [
    "# for now only the last fold\n",
    "\n",
    "score = 0\n",
    "\n",
    "for i in range(4):\n",
    "    print('*'*20, i)\n",
    "    cons=np.array([325.0, 625.0, 400.0, 7.8])\n",
    "    mse_rf = mean_squared_error(y_v[:, i]*cons[i], y_hat[:, i]*cons[i])\n",
    "    mse_bl = mean_squared_error(y_v[:, i]*cons[i], y_b[:, i]*cons[i])\n",
    "    \n",
    "    score += mse_rf / mse_bl\n",
    "    \n",
    "    print(f'Baseline MSE:      {mse_bl:.2f}')\n",
    "    print(f'Random Forest MSE: {mse_rf:.2f} ({1e2*(mse_rf - mse_bl)/mse_bl:+.2f} %)')"
   ]
  },
  {
   "cell_type": "code",
   "execution_count": null,
   "id": "6661c37b-eabb-4657-ab21-936e711a2b5a",
   "metadata": {},
   "outputs": [],
   "source": []
  },
  {
   "cell_type": "code",
   "execution_count": 363,
   "id": "5eab7892-13d3-4a13-b491-45f59c689716",
   "metadata": {},
   "outputs": [
    {
     "name": "stdout",
     "output_type": "stream",
     "text": [
      "Evaluation score: 0.8549267166430683\n"
     ]
    }
   ],
   "source": [
    "print('Evaluation score:', score/4)"
   ]
  },
  {
   "cell_type": "code",
   "execution_count": 364,
   "id": "2ab098fd-f280-40ea-8d4e-d1d44ac21a85",
   "metadata": {},
   "outputs": [
    {
     "data": {
      "image/png": "[encoded data removed]",
      "text/plain": [
       "<Figure size 1440x288 with 8 Axes>"
      ]
     },
     "metadata": {},
     "output_type": "display_data"
    }
   ],
   "source": [
    "fig, axs = plt.subplots(1, 4, figsize=(20, 4))\n",
    "\n",
    "for i, ax in enumerate(axs):\n",
    "    ax.set_aspect('equal')\n",
    "\n",
    "    img = ax.hexbin(y_v[:, i], y_hat[:, i], cmap='viridis', mincnt=1)\n",
    "\n",
    "    ax.plot(np.arange(np.min(y_v[:, i]), np.max(y_v[:, i])),\n",
    "            np.arange(np.min(y_v[:, i]), np.max(y_v[:, i])), 'r--')\n",
    "\n",
    "    plt.colorbar(img, ax=ax)\n",
    "\n",
    "    ax.set_xlabel('True ' + cols[i])\n",
    "    ax.set_ylabel('Predicted ' + cols[i])"
   ]
  },
  {
   "cell_type": "code",
   "execution_count": 334,
   "id": "a96c94c5-61dd-43aa-b3d1-e86b5df795ec",
   "metadata": {},
   "outputs": [
    {
     "data": {
      "application/vnd.jupyter.widget-view+json": {
       "model_id": "82e327b4c13246b3bbd3692e35de4423",
       "version_major": 2,
       "version_minor": 0
      },
      "text/plain": [
       "INFO: Preprocessing data ...:   0%|          | 0/1154 [00:00<?, ?it/s]"
      ]
     },
     "metadata": {},
     "output_type": "display_data"
    }
   ],
   "source": [
    "X_test,M_test = load_data(test_data)\n",
    "X_test = preprocess(X_test, M_test)\n",
    "\n",
    "predictions = []\n",
    "\n",
    "for rf in random_forests:\n",
    "    pp = rf.predict(X_test)\n",
    "    predictions.append(pp)\n",
    "    \n",
    "predictions = np.asarray(predictions)\n",
    "\n",
    "predictions = np.mean(predictions, axis=0) \n",
    "predictions =predictions * np.array([325.0, 625.0, 400.0, 7.8])\n",
    "\n",
    "submission = pd.DataFrame(data = predictions, columns=[\"P\", \"K\", \"Mg\", \"pH\"])\n",
    "submission.to_csv(\"submission.csv\", index_label=\"sample_index\")"
   ]
  },
  {
   "cell_type": "code",
   "execution_count": 335,
   "id": "e0471184-aeca-4a63-a8a1-9a110c19024a",
   "metadata": {},
   "outputs": [
    {
     "data": {
      "text/html": [
       "<div>\n",
       "<style scoped>\n",
       "    .dataframe tbody tr th:only-of-type {\n",
       "        vertical-align: middle;\n",
       "    }\n",
       "\n",
       "    .dataframe tbody tr th {\n",
       "        vertical-align: top;\n",
       "    }\n",
       "\n",
       "    .dataframe thead th {\n",
       "        text-align: right;\n",
       "    }\n",
       "</style>\n",
       "<table border=\"1\" class=\"dataframe\">\n",
       "  <thead>\n",
       "    <tr style=\"text-align: right;\">\n",
       "      <th></th>\n",
       "      <th>P</th>\n",
       "      <th>K</th>\n",
       "      <th>Mg</th>\n",
       "      <th>pH</th>\n",
       "    </tr>\n",
       "  </thead>\n",
       "  <tbody>\n",
       "    <tr>\n",
       "      <th>0</th>\n",
       "      <td>65.54894</td>\n",
       "      <td>210.6016</td>\n",
       "      <td>147.37326</td>\n",
       "      <td>6.879086</td>\n",
       "    </tr>\n",
       "    <tr>\n",
       "      <th>1</th>\n",
       "      <td>67.63378</td>\n",
       "      <td>218.8392</td>\n",
       "      <td>157.62174</td>\n",
       "      <td>6.880922</td>\n",
       "    </tr>\n",
       "    <tr>\n",
       "      <th>2</th>\n",
       "      <td>67.37774</td>\n",
       "      <td>224.3422</td>\n",
       "      <td>166.96756</td>\n",
       "      <td>6.860426</td>\n",
       "    </tr>\n",
       "    <tr>\n",
       "      <th>3</th>\n",
       "      <td>82.34922</td>\n",
       "      <td>243.6192</td>\n",
       "      <td>171.25670</td>\n",
       "      <td>6.843724</td>\n",
       "    </tr>\n",
       "    <tr>\n",
       "      <th>4</th>\n",
       "      <td>73.33680</td>\n",
       "      <td>220.4384</td>\n",
       "      <td>167.89454</td>\n",
       "      <td>6.930604</td>\n",
       "    </tr>\n",
       "    <tr>\n",
       "      <th>...</th>\n",
       "      <td>...</td>\n",
       "      <td>...</td>\n",
       "      <td>...</td>\n",
       "      <td>...</td>\n",
       "    </tr>\n",
       "    <tr>\n",
       "      <th>1149</th>\n",
       "      <td>52.62702</td>\n",
       "      <td>193.4508</td>\n",
       "      <td>148.01708</td>\n",
       "      <td>6.611358</td>\n",
       "    </tr>\n",
       "    <tr>\n",
       "      <th>1150</th>\n",
       "      <td>53.30074</td>\n",
       "      <td>197.4080</td>\n",
       "      <td>145.72954</td>\n",
       "      <td>6.628248</td>\n",
       "    </tr>\n",
       "    <tr>\n",
       "      <th>1151</th>\n",
       "      <td>73.05854</td>\n",
       "      <td>234.1664</td>\n",
       "      <td>166.19686</td>\n",
       "      <td>6.614896</td>\n",
       "    </tr>\n",
       "    <tr>\n",
       "      <th>1152</th>\n",
       "      <td>55.32660</td>\n",
       "      <td>204.9298</td>\n",
       "      <td>147.60934</td>\n",
       "      <td>6.631888</td>\n",
       "    </tr>\n",
       "    <tr>\n",
       "      <th>1153</th>\n",
       "      <td>62.36508</td>\n",
       "      <td>215.3508</td>\n",
       "      <td>146.91276</td>\n",
       "      <td>6.618158</td>\n",
       "    </tr>\n",
       "  </tbody>\n",
       "</table>\n",
       "<p>1154 rows × 4 columns</p>\n",
       "</div>"
      ],
      "text/plain": [
       "             P         K         Mg        pH\n",
       "0     65.54894  210.6016  147.37326  6.879086\n",
       "1     67.63378  218.8392  157.62174  6.880922\n",
       "2     67.37774  224.3422  166.96756  6.860426\n",
       "3     82.34922  243.6192  171.25670  6.843724\n",
       "4     73.33680  220.4384  167.89454  6.930604\n",
       "...        ...       ...        ...       ...\n",
       "1149  52.62702  193.4508  148.01708  6.611358\n",
       "1150  53.30074  197.4080  145.72954  6.628248\n",
       "1151  73.05854  234.1664  166.19686  6.614896\n",
       "1152  55.32660  204.9298  147.60934  6.631888\n",
       "1153  62.36508  215.3508  146.91276  6.618158\n",
       "\n",
       "[1154 rows x 4 columns]"
      ]
     },
     "execution_count": 335,
     "metadata": {},
     "output_type": "execute_result"
    }
   ],
   "source": [
    "submission"
   ]
  },
  {
   "cell_type": "code",
   "execution_count": 336,
   "id": "be7804f9-ae4b-4380-a905-8e1a602975b4",
   "metadata": {},
   "outputs": [
    {
     "name": "stdout",
     "output_type": "stream",
     "text": [
      "(2, 4)\n"
     ]
    }
   ],
   "source": [
    "x=np.array([[1,2,4,3],[4,3,0,6]])\n",
    "print(x.shape)\n",
    "a=x/np.expand_dims(np.linalg.norm(x,axis=0),0)"
   ]
  },
  {
   "cell_type": "code",
   "execution_count": null,
   "id": "fc594876-14eb-42ab-93a7-bf3664ecbcaa",
   "metadata": {},
   "outputs": [],
   "source": []
  }
 ],
 "metadata": {
  "kernelspec": {
   "display_name": "Python 3 (ipykernel)",
   "language": "python",
   "name": "python3"
  },
  "language_info": {
   "codemirror_mode": {
    "name": "ipython",
    "version": 3
   },
   "file_extension": ".py",
   "mimetype": "text/x-python",
   "name": "python",
   "nbconvert_exporter": "python",
   "pygments_lexer": "ipython3",
   "version": "3.8.12"
  }
 },
 "nbformat": 4,
 "nbformat_minor": 5
}
