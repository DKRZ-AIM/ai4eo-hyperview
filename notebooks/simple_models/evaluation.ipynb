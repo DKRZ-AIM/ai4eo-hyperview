{
 "cells": [
  {
   "cell_type": "markdown",
   "id": "385b7ab5-9fe4-45ea-90e8-7bde406fdba7",
   "metadata": {},
   "source": [
    "# Setup"
   ]
  },
  {
   "cell_type": "code",
   "execution_count": 11,
   "id": "56d9a260-a892-430d-bfc4-fd4fd453f7df",
   "metadata": {},
   "outputs": [],
   "source": [
    "import os\n",
    "from glob import glob\n",
    "import numpy as np\n",
    "import pandas as pd\n",
    "\n",
    "from matplotlib import pyplot as plt\n",
    "from matplotlib import colors\n",
    "\n",
    "import seaborn as sns\n",
    "sns.set_style('whitegrid')"
   ]
  },
  {
   "cell_type": "markdown",
   "id": "e97b0699-e13f-4c0c-96e3-37f5eee6a1f0",
   "metadata": {},
   "source": [
    "# Read Data"
   ]
  },
  {
   "cell_type": "markdown",
   "id": "2f90519d-3024-467e-8441-7a956aa7f50a",
   "metadata": {},
   "source": [
    "## Read Submission"
   ]
  },
  {
   "cell_type": "code",
   "execution_count": 10,
   "id": "6401de11-6873-4b5a-8cfc-0fddd9889f65",
   "metadata": {},
   "outputs": [
    {
     "data": {
      "text/html": [
       "<div>\n",
       "<style scoped>\n",
       "    .dataframe tbody tr th:only-of-type {\n",
       "        vertical-align: middle;\n",
       "    }\n",
       "\n",
       "    .dataframe tbody tr th {\n",
       "        vertical-align: top;\n",
       "    }\n",
       "\n",
       "    .dataframe thead th {\n",
       "        text-align: right;\n",
       "    }\n",
       "</style>\n",
       "<table border=\"1\" class=\"dataframe\">\n",
       "  <thead>\n",
       "    <tr style=\"text-align: right;\">\n",
       "      <th></th>\n",
       "      <th>sample_index</th>\n",
       "      <th>P</th>\n",
       "      <th>K</th>\n",
       "      <th>Mg</th>\n",
       "      <th>pH</th>\n",
       "    </tr>\n",
       "  </thead>\n",
       "  <tbody>\n",
       "    <tr>\n",
       "      <th>0</th>\n",
       "      <td>0</td>\n",
       "      <td>68.476023</td>\n",
       "      <td>211.478697</td>\n",
       "      <td>141.793400</td>\n",
       "      <td>6.865004</td>\n",
       "    </tr>\n",
       "    <tr>\n",
       "      <th>1</th>\n",
       "      <td>1</td>\n",
       "      <td>68.400251</td>\n",
       "      <td>217.498747</td>\n",
       "      <td>154.350794</td>\n",
       "      <td>6.860835</td>\n",
       "    </tr>\n",
       "    <tr>\n",
       "      <th>2</th>\n",
       "      <td>2</td>\n",
       "      <td>65.068421</td>\n",
       "      <td>220.259064</td>\n",
       "      <td>164.963743</td>\n",
       "      <td>6.817895</td>\n",
       "    </tr>\n",
       "    <tr>\n",
       "      <th>3</th>\n",
       "      <td>3</td>\n",
       "      <td>83.922306</td>\n",
       "      <td>244.462824</td>\n",
       "      <td>169.843275</td>\n",
       "      <td>6.827018</td>\n",
       "    </tr>\n",
       "    <tr>\n",
       "      <th>4</th>\n",
       "      <td>4</td>\n",
       "      <td>74.576942</td>\n",
       "      <td>219.159566</td>\n",
       "      <td>160.512030</td>\n",
       "      <td>6.928521</td>\n",
       "    </tr>\n",
       "  </tbody>\n",
       "</table>\n",
       "</div>"
      ],
      "text/plain": [
       "   sample_index          P           K          Mg        pH\n",
       "0             0  68.476023  211.478697  141.793400  6.865004\n",
       "1             1  68.400251  217.498747  154.350794  6.860835\n",
       "2             2  65.068421  220.259064  164.963743  6.817895\n",
       "3             3  83.922306  244.462824  169.843275  6.827018\n",
       "4             4  74.576942  219.159566  160.512030  6.928521"
      ]
     },
     "execution_count": 10,
     "metadata": {},
     "output_type": "execute_result"
    }
   ],
   "source": [
    "# read submissions\n",
    "df_sub = pd.read_csv(\"../../hyperview/random_forest/submissions/submission_RandomForest_SIMPLE202204140731_nest=1197_maxd=None_minsl=1.csv\")\n",
    "df_sub.head()"
   ]
  },
  {
   "cell_type": "markdown",
   "id": "1682227c-dac5-423c-82f6-ff6479bca13d",
   "metadata": {},
   "source": [
    "## Read Train Data"
   ]
  },
  {
   "cell_type": "code",
   "execution_count": 12,
   "id": "714cdbd9-8312-483a-b949-1f4981c63f09",
   "metadata": {},
   "outputs": [],
   "source": [
    "def load_data(directory: str):\n",
    "    \"\"\"Load each cube, reduce its dimensionality and append to array.\n",
    "\n",
    "    Args:\n",
    "        directory (str): Directory to either train or test set\n",
    "    Returns:\n",
    "        [type]: A list with spectral curve for each sample.\n",
    "    \"\"\"\n",
    "    datalist = []\n",
    "    masklist = []\n",
    "    \n",
    "    all_files = np.array(\n",
    "        sorted(\n",
    "            glob(os.path.join(directory, \"*.npz\")),\n",
    "            key=lambda x: int(os.path.basename(x).replace(\".npz\", \"\")),\n",
    "        )\n",
    "    )\n",
    "    for file_name in all_files:\n",
    "        with np.load(file_name) as npz:\n",
    "            mask = npz['mask']\n",
    "            data=npz['data']\n",
    "            \n",
    "            datalist.append(data)\n",
    "            masklist.append(mask)\n",
    "    return datalist,masklist\n",
    "            \n",
    "\n",
    "\n",
    "def load_gt(file_path: str):\n",
    "    \"\"\"Load labels for train set from the ground truth file.\n",
    "    Args:\n",
    "        file_path (str): Path to the ground truth .csv file.\n",
    "    Returns:\n",
    "        [type]: 2D numpy array with soil properties levels\n",
    "    \"\"\"\n",
    "    gt_file = pd.read_csv(file_path)\n",
    "    labels = gt_file[[\"P\", \"K\", \"Mg\", \"pH\"]].values/np.array([325.0, 625.0, 400.0, 7.8]) # normalize ground-truth between 0-1\n",
    "    return labels"
   ]
  },
  {
   "cell_type": "code",
   "execution_count": 13,
   "id": "4ab319ed-9d9c-47dc-b89d-03b3eee92896",
   "metadata": {},
   "outputs": [],
   "source": [
    "cols = [\"P2O5\", \"K\", \"Mg\", \"pH\"]"
   ]
  },
  {
   "cell_type": "code",
   "execution_count": null,
   "id": "ca5ccec8-bd82-4efb-80d8-5b6ad93ae627",
   "metadata": {},
   "outputs": [],
   "source": [
    "raw_data = '/p/project/hai_cons_ee/kuzu/ai4eo-hyperview/hyperview/keras/train_data'\n",
    "raw_data='/local_home/kuzu_ri/GIT_REPO/ai4eo_hyperview/hyperview/keras/train_data'\n",
    "train_data = os.path.join(raw_data, 'train_data')\n",
    "\n",
    "X_train, M_train = load_data(train_data)\n",
    "y_train = load_gt(os.path.join(raw_data, \"train_gt.csv\"))\n",
    "\n",
    "print(f\"Train data size: {len(X_train)}\")"
   ]
  }
 ],
 "metadata": {
  "kernelspec": {
   "display_name": "Python 3",
   "language": "python",
   "name": "python3"
  },
  "language_info": {
   "codemirror_mode": {
    "name": "ipython",
    "version": 3
   },
   "file_extension": ".py",
   "mimetype": "text/x-python",
   "name": "python",
   "nbconvert_exporter": "python",
   "pygments_lexer": "ipython3",
   "version": "3.8.3"
  }
 },
 "nbformat": 4,
 "nbformat_minor": 5
}
